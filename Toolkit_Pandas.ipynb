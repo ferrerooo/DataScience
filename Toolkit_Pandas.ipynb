{
 "cells": [
  {
   "cell_type": "markdown",
   "metadata": {},
   "source": [
    "## If condition XX else YY\n",
    "\n",
    "mergeAll_filtered.loc[:,'Truth'] = np.where(mergeAll_filtered.RelevanceId < 3, 1, 0)\n",
    "\n",
    "avatarResult['AveRelevanceId'] = np.where(avatarResult.RelevanceId <= 2.5, 1, 0)"
   ]
  },
  {
   "cell_type": "code",
   "execution_count": null,
   "metadata": {},
   "outputs": [],
   "source": []
  }
 ],
 "metadata": {
  "kernelspec": {
   "display_name": "Python 3",
   "language": "python",
   "name": "python3"
  },
  "language_info": {
   "codemirror_mode": {
    "name": "ipython",
    "version": 3
   },
   "file_extension": ".py",
   "mimetype": "text/x-python",
   "name": "python",
   "nbconvert_exporter": "python",
   "pygments_lexer": "ipython3",
   "version": "3.6.7"
  }
 },
 "nbformat": 4,
 "nbformat_minor": 2
}
