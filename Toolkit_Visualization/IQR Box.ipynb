{
 "cells": [
  {
   "cell_type": "code",
   "execution_count": 3,
   "metadata": {},
   "outputs": [],
   "source": [
    "import matplotlib.pyplot as plt\n",
    "%matplotlib inline"
   ]
  },
  {
   "cell_type": "code",
   "execution_count": 11,
   "metadata": {},
   "outputs": [],
   "source": [
    "agePhysics = [25,31,31,31,31,32,33,34,35,35,35,35,35,36,36,37,37,37,37,37,38,38,38,39,39,\n",
    "              40,40,40,40,40,41,42,42,42,42,42,42,42,42,43,43,43,43,44,44,44,44,44,44,45,\n",
    "              45,45,45,45,46,46,46,46,46,46,47,47,47,47,47,47,48,48,48,48,48,49,49,49,49,\n",
    "              49,49,49,49,50,50,50,50,50,51,51,51,52,52,52,53,53,53,53,53,53,53,53,54,54,\n",
    "              54,54,54,54,54,55,55,55,55,55,56,56,56,56,56,56,57,57,57,58,58,59,59,59,59,\n",
    "              59,59,59,60,60,60,60,60,60,60,61,61,61,61,61,62,62,63,63,63,63,63,64,64,64,\n",
    "              64,64,64,64,65,65,65,66,66,67,67,68,68,68,68,68,68,68,69,70,71,71,71,72,72,\n",
    "              72,72,73,73,74,75,76,76,76,76,77,77,78,79,79,80,80,81,84,84,85,85,87,87,88]\n",
    "            \n",
    "ageLiterature = [42,44,45,46,46,47,48,49,49,50,51,51,52,52,52,52,53,54,54,55,55,55,55,56,\n",
    "                 56,56,56,56,57,57,57,58,58,58,59,59,59,60,60,60,60,60,60,60,61,61,61,62,\n",
    "                 62,62,62,63,63,63,63,65,67,67,67,67,68,68,68,68,68,68,69,69,69,69,69,69,\n",
    "                 70,71,71,71,71,72,72,72,72,73,73,73,73,74,74,74,74,74,75,75,75,76,76,76,\n",
    "                 77,77,78,78,78,79,79,79,80,80,82,83,85,88]\n",
    "                 \n",
    "ageEconomics = [51,53,55,55,56,56,56,56,57,58,58,58,60,60,61,61,61,61,61,61,62,62,62,62,\n",
    "                63,63,63,63,63,64,64,64,64,65,65,66,66,67,67,67,67,67,67,67,68,68,68,69,\n",
    "                69,70,70,70,71,71,71,73,73,74,74,74,75,75,75,76,76,77,77,77,78,78,81,82,\n",
    "                84,89,90]\n",
    "     \n",
    "ages=[agePhysics, ageLiterature, ageEconomics]"
   ]
  },
  {
   "cell_type": "code",
   "execution_count": 15,
   "metadata": {},
   "outputs": [
    {
     "data": {
      "image/png": "[encoded data removed]",
      "text/plain": [
       "<Figure size 432x288 with 1 Axes>"
      ]
     },
     "metadata": {
      "needs_background": "light"
     },
     "output_type": "display_data"
    }
   ],
   "source": [
    "box = plt.boxplot(ages, showmeans=True, whis=99)\n",
    "\n",
    "# add colours\n",
    "  # physics = green\n",
    "plt.setp(box['boxes'][0], color='green')\n",
    "plt.setp(box['caps'][0], color='green')\n",
    "plt.setp(box['caps'][1], color='green')\n",
    "plt.setp(box['whiskers'][0], color='green')\n",
    "plt.setp(box['whiskers'][1], color='green')\n",
    "  # literature = red\n",
    "plt.setp(box['boxes'][1], color='red')\n",
    "plt.setp(box['caps'][2], color='red')\n",
    "plt.setp(box['caps'][3], color='red')\n",
    "plt.setp(box['whiskers'][2], color='red')\n",
    "plt.setp(box['whiskers'][3], color='red')\n",
    "  # economics = blue (default)\n",
    "    \n",
    "plt.ylim([20, 95])  # y axis gets more space at the extremes\n",
    "plt.grid(True, axis='y')  # let's add a grid on y-axis\n",
    "plt.title('Distribution of the Nobel Prize winner ages', fontsize=18)  # chart title\n",
    "plt.ylabel('Age (years) at winning time')             # y axis title\n",
    "plt.xticks([1,2,3], ['Physics','Literature','Economics']) # x axis labels\n",
    "\n",
    "\n",
    "plt.show()"
   ]
  },
  {
   "cell_type": "code",
   "execution_count": null,
   "metadata": {},
   "outputs": [],
   "source": []
  }
 ],
 "metadata": {
  "kernelspec": {
   "display_name": "Python 3",
   "language": "python",
   "name": "python3"
  },
  "language_info": {
   "codemirror_mode": {
    "name": "ipython",
    "version": 3
   },
   "file_extension": ".py",
   "mimetype": "text/x-python",
   "name": "python",
   "nbconvert_exporter": "python",
   "pygments_lexer": "ipython3",
   "version": "3.6.7"
  }
 },
 "nbformat": 4,
 "nbformat_minor": 2
}
