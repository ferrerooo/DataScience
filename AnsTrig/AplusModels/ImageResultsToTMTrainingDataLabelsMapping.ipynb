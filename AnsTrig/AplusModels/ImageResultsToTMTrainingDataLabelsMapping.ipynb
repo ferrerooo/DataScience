{
 "cells": [
  {
   "cell_type": "code",
   "execution_count": 188,
   "metadata": {},
   "outputs": [],
   "source": [
    "from IPython.core.interactiveshell import InteractiveShell\n",
    "\n",
    "InteractiveShell.ast_node_interactivity = \"all\"\n",
    "\n",
    "imageResultsNumber = 5\n"
   ]
  },
  {
   "cell_type": "code",
   "execution_count": 189,
   "metadata": {},
   "outputs": [
    {
     "name": "stdout",
     "output_type": "stream",
     "text": [
      "2\n"
     ]
    }
   ],
   "source": [
    "imageResultsRelevanceCasesList = [['G'], ['B']]\n",
    "print(len(imageResultsRelevanceCasesList))"
   ]
  },
  {
   "cell_type": "code",
   "execution_count": 190,
   "metadata": {},
   "outputs": [
    {
     "name": "stdout",
     "output_type": "stream",
     "text": [
      "32\n"
     ]
    }
   ],
   "source": [
    "i = 2\n",
    "\n",
    "while i <= imageResultsNumber :\n",
    "    imageResultsRelevanceCasesListTemp = []\n",
    "    for arr in imageResultsRelevanceCasesList:\n",
    "        arr1 = list(arr)\n",
    "        arr1.append('G')\n",
    "        arr2 = list(arr)\n",
    "        arr2.append('B')\n",
    "        imageResultsRelevanceCasesListTemp.append(arr1)\n",
    "        imageResultsRelevanceCasesListTemp.append(arr2)\n",
    "    imageResultsRelevanceCasesList = imageResultsRelevanceCasesListTemp\n",
    "    i = i + 1\n",
    "\n",
    "print(len(imageResultsRelevanceCasesList))\n",
    "        "
   ]
  },
  {
   "cell_type": "code",
   "execution_count": 191,
   "metadata": {},
   "outputs": [
    {
     "name": "stdout",
     "output_type": "stream",
     "text": [
      "32\n"
     ]
    }
   ],
   "source": [
    "ap_imageResults_list = []\n",
    "for images in imageResultsRelevanceCasesList:\n",
    "    precisionSum = 0.0\n",
    "    totalCount = 0\n",
    "    goodQualityCount = 0\n",
    "    for image in images:\n",
    "        totalCount = totalCount + 1\n",
    "        if image == 'G':\n",
    "            goodQualityCount = goodQualityCount + 1\n",
    "            precisionSum = precisionSum + float(goodQualityCount)/totalCount\n",
    "    if goodQualityCount == 0:\n",
    "        ap = 0\n",
    "    else:\n",
    "        ap = precisionSum / goodQualityCount\n",
    "    ncg = float(goodQualityCount)/imageResultsNumber\n",
    "    ap_ncg = ap * ncg\n",
    "    f1 = 0\n",
    "    if ap + ncg != 0:\n",
    "        f1 = 2*ap*ncg/(ap+ncg)\n",
    "    ap_imageResults_list.append([\"{0:.5f}\".format(ap), \n",
    "                                 \"{0:.5f}\".format(ncg), \n",
    "                                 \"{0:.5f}\".format(ap_ncg), \n",
    "                                 \"{0:.5f}\".format(f1),\n",
    "                                 images])\n",
    "\n",
    "print(len(ap_imageResults_list))"
   ]
  },
  {
   "cell_type": "code",
   "execution_count": 192,
   "metadata": {},
   "outputs": [
    {
     "name": "stdout",
     "output_type": "stream",
     "text": [
      "[['1.00000', '1.00000', '1.00000', '1.00000', ['G', 'G', 'G', 'G', 'G']], ['1.00000', '0.80000', '0.80000', '0.88889', ['G', 'G', 'G', 'G', 'B']], ['1.00000', '0.60000', '0.60000', '0.75000', ['G', 'G', 'G', 'B', 'B']], ['1.00000', '0.40000', '0.40000', '0.57143', ['G', 'G', 'B', 'B', 'B']], ['1.00000', '0.20000', '0.20000', '0.33333', ['G', 'B', 'B', 'B', 'B']], ['0.95000', '0.80000', '0.76000', '0.86857', ['G', 'G', 'G', 'B', 'G']], ['0.91667', '0.60000', '0.55000', '0.72527', ['G', 'G', 'B', 'G', 'B']], ['0.88750', '0.80000', '0.71000', '0.84148', ['G', 'G', 'B', 'G', 'G']], ['0.86667', '0.60000', '0.52000', '0.70909', ['G', 'G', 'B', 'B', 'G']], ['0.83333', '0.40000', '0.33333', '0.54054', ['G', 'B', 'G', 'B', 'B']], ['0.80556', '0.60000', '0.48333', '0.68775', ['G', 'B', 'G', 'G', 'B']], ['0.80417', '0.80000', '0.64333', '0.80208', ['G', 'B', 'G', 'G', 'G']], ['0.75556', '0.60000', '0.45333', '0.66885', ['G', 'B', 'G', 'B', 'G']], ['0.75000', '0.40000', '0.30000', '0.52174', ['G', 'B', 'B', 'G', 'B']], ['0.70000', '0.60000', '0.42000', '0.64615', ['G', 'B', 'B', 'G', 'G']], ['0.70000', '0.40000', '0.28000', '0.50909', ['G', 'B', 'B', 'B', 'G']], ['0.67917', '0.80000', '0.54333', '0.73465', ['B', 'G', 'G', 'G', 'G']], ['0.63889', '0.60000', '0.38333', '0.61883', ['B', 'G', 'G', 'G', 'B']], ['0.58889', '0.60000', '0.35333', '0.59439', ['B', 'G', 'G', 'B', 'G']], ['0.58333', '0.40000', '0.23333', '0.47458', ['B', 'G', 'G', 'B', 'B']], ['0.53333', '0.60000', '0.32000', '0.56471', ['B', 'G', 'B', 'G', 'G']], ['0.50000', '0.40000', '0.20000', '0.44444', ['B', 'G', 'B', 'G', 'B']], ['0.50000', '0.20000', '0.10000', '0.28571', ['B', 'G', 'B', 'B', 'B']], ['0.47778', '0.60000', '0.28667', '0.53196', ['B', 'B', 'G', 'G', 'G']], ['0.45000', '0.40000', '0.18000', '0.42353', ['B', 'G', 'B', 'B', 'G']], ['0.41667', '0.40000', '0.16667', '0.40816', ['B', 'B', 'G', 'G', 'B']], ['0.36667', '0.40000', '0.14667', '0.38261', ['B', 'B', 'G', 'B', 'G']], ['0.33333', '0.20000', '0.06667', '0.25000', ['B', 'B', 'G', 'B', 'B']], ['0.32500', '0.40000', '0.13000', '0.35862', ['B', 'B', 'B', 'G', 'G']], ['0.25000', '0.20000', '0.05000', '0.22222', ['B', 'B', 'B', 'G', 'B']], ['0.20000', '0.20000', '0.04000', '0.20000', ['B', 'B', 'B', 'B', 'G']], ['0.00000', '0.00000', '0.00000', '0.00000', ['B', 'B', 'B', 'B', 'B']]]\n"
     ]
    }
   ],
   "source": [
    "print (str(sorted(ap_imageResults_list, reverse=True)))"
   ]
  },
  {
   "cell_type": "code",
   "execution_count": null,
   "metadata": {},
   "outputs": [],
   "source": []
  }
 ],
 "metadata": {
  "kernelspec": {
   "display_name": "Python 3",
   "language": "python",
   "name": "python3"
  },
  "language_info": {
   "codemirror_mode": {
    "name": "ipython",
    "version": 3
   },
   "file_extension": ".py",
   "mimetype": "text/x-python",
   "name": "python",
   "nbconvert_exporter": "python",
   "pygments_lexer": "ipython3",
   "version": "3.6.7"
  }
 },
 "nbformat": 4,
 "nbformat_minor": 2
}
