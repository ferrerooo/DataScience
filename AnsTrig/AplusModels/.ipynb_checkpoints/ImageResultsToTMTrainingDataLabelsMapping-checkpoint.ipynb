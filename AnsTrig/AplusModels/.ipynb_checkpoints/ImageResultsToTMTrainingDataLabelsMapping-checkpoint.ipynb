{
 "cells": [
  {
   "cell_type": "code",
   "execution_count": 178,
   "metadata": {},
   "outputs": [],
   "source": [
    "from IPython.core.interactiveshell import InteractiveShell\n",
    "\n",
    "InteractiveShell.ast_node_interactivity = \"all\"\n",
    "\n",
    "imageResultsNumber = 7\n"
   ]
  },
  {
   "cell_type": "code",
   "execution_count": 179,
   "metadata": {},
   "outputs": [
    {
     "name": "stdout",
     "output_type": "stream",
     "text": [
      "2\n"
     ]
    }
   ],
   "source": [
    "imageResultsRelevanceCasesList = [['G'], ['B']]\n",
    "print(len(imageResultsRelevanceCasesList))"
   ]
  },
  {
   "cell_type": "code",
   "execution_count": 180,
   "metadata": {},
   "outputs": [
    {
     "name": "stdout",
     "output_type": "stream",
     "text": [
      "16\n"
     ]
    }
   ],
   "source": [
    "i = 2\n",
    "\n",
    "while i <= imageResultsNumber :\n",
    "    imageResultsRelevanceCasesListTemp = []\n",
    "    for arr in imageResultsRelevanceCasesList:\n",
    "        arr1 = list(arr)\n",
    "        arr1.append('G')\n",
    "        arr2 = list(arr)\n",
    "        arr2.append('B')\n",
    "        imageResultsRelevanceCasesListTemp.append(arr1)\n",
    "        imageResultsRelevanceCasesListTemp.append(arr2)\n",
    "    imageResultsRelevanceCasesList = imageResultsRelevanceCasesListTemp\n",
    "    i = i + 1\n",
    "\n",
    "print(len(imageResultsRelevanceCasesList))\n",
    "        "
   ]
  },
  {
   "cell_type": "code",
   "execution_count": 181,
   "metadata": {},
   "outputs": [
    {
     "name": "stdout",
     "output_type": "stream",
     "text": [
      "16\n"
     ]
    }
   ],
   "source": [
    "ap_imageResults_list = []\n",
    "for images in imageResultsRelevanceCasesList:\n",
    "    precisionSum = 0.0\n",
    "    totalCount = 0\n",
    "    goodQualityCount = 0\n",
    "    for image in images:\n",
    "        totalCount = totalCount + 1\n",
    "        if image == 'G':\n",
    "            goodQualityCount = goodQualityCount + 1\n",
    "            precisionSum = precisionSum + float(goodQualityCount)/totalCount\n",
    "    if goodQualityCount == 0:\n",
    "        ap = 0\n",
    "    else:\n",
    "        ap = precisionSum / goodQualityCount\n",
    "    ncg = float(goodQualityCount)/imageResultsNumber\n",
    "    ap_ncg = ap * ncg\n",
    "    ap_imageResults_list.append([\"{0:.5f}\".format(ap), \"{0:.5f}\".format(ncg), \"{0:.5f}\".format(ap_ncg), images])\n",
    "\n",
    "print(len(ap_imageResults_list))"
   ]
  },
  {
   "cell_type": "code",
   "execution_count": 182,
   "metadata": {},
   "outputs": [
    {
     "name": "stdout",
     "output_type": "stream",
     "text": [
      "[['1.00000', '1.00000', ['G', 'G', 'G', 'G']], ['1.00000', '0.75000', ['G', 'G', 'G', 'B']], ['1.00000', '0.50000', ['G', 'G', 'B', 'B']], ['1.00000', '0.25000', ['G', 'B', 'B', 'B']], ['0.91667', '0.75000', ['G', 'G', 'B', 'G']], ['0.83333', '0.50000', ['G', 'B', 'G', 'B']], ['0.80556', '0.75000', ['G', 'B', 'G', 'G']], ['0.75000', '0.50000', ['G', 'B', 'B', 'G']], ['0.63889', '0.75000', ['B', 'G', 'G', 'G']], ['0.58333', '0.50000', ['B', 'G', 'G', 'B']], ['0.50000', '0.50000', ['B', 'G', 'B', 'G']], ['0.50000', '0.25000', ['B', 'G', 'B', 'B']], ['0.41667', '0.50000', ['B', 'B', 'G', 'G']], ['0.33333', '0.25000', ['B', 'B', 'G', 'B']], ['0.25000', '0.25000', ['B', 'B', 'B', 'G']], ['0.00000', '0.00000', ['B', 'B', 'B', 'B']]]\n"
     ]
    }
   ],
   "source": [
    "print (str(sorted(ap_imageResults_list, reverse=True)))"
   ]
  },
  {
   "cell_type": "code",
   "execution_count": null,
   "metadata": {},
   "outputs": [],
   "source": []
  }
 ],
 "metadata": {
  "kernelspec": {
   "display_name": "Python 3",
   "language": "python",
   "name": "python3"
  },
  "language_info": {
   "codemirror_mode": {
    "name": "ipython",
    "version": 3
   },
   "file_extension": ".py",
   "mimetype": "text/x-python",
   "name": "python",
   "nbconvert_exporter": "python",
   "pygments_lexer": "ipython3",
   "version": "3.6.7"
  }
 },
 "nbformat": 4,
 "nbformat_minor": 2
}
