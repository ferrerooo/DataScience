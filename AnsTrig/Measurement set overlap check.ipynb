{
 "cells": [
  {
   "cell_type": "code",
   "execution_count": 66,
   "metadata": {},
   "outputs": [],
   "source": [
    "import numpy as np\n",
    "import pandas as pd"
   ]
  },
  {
   "cell_type": "code",
   "execution_count": 67,
   "metadata": {},
   "outputs": [],
   "source": [
    "# enUS\n",
    "calcium_enus = pd.read_table('C:\\\\Users\\\\chzo.REDMOND\\\\OneDrive - Microsoft\\\\CosmosData_QuerySet\\\\AnsTrig_GenerateMeasurementSetCalcium_ENUS\\\\AetherJobRawOutput\\\\2_CUT400LongerQueries_querylog_en-US_Web_combine.tsv',names=['Query','Weight'], sep='\\t')\n",
    "\n",
    "potassium_enus = pd.read_table('C:\\\\Users\\\\chzo.REDMOND\\\\OneDrive - Microsoft\\\\CosmosData_QuerySet\\\\AnsTrig_GenerateMeasurementSetPotassium_Relabel_2019_enus\\\\PotassiumSet_Raw_UHRS.tsv', sep='\\t')\n",
    "potassium_enus.rename(columns={'query':'Query', 'market':'Market'}, inplace=True)\n",
    "\n",
    "argon_enus = pd.read_table('C:\\\\Users\\\\chzo.REDMOND\\\\OneDrive - Microsoft\\\\CosmosData_QuerySet\\\\AnsTrig_GenerateMeasurementSetArgon_Relabel_2019\\\\[AnsTrig] AnswersPR_Argon_ImageGeneric_Moderate_v3.tsv', sep='\\t')\n",
    "\n",
    "tr1_2019Feb_enus = pd.read_table('C:\\\\Users\\\\chzo.REDMOND\\\\OneDrive - Microsoft\\\\CosmosData_QuerySet\\\\AnsTrig_Tr1-Feb2019_MoreLabelingData\\\\us\\\\enus_normal.txt',names=['Query','Weight'], sep='\\t')\n",
    "\n",
    "tr2_2019Feb_enusgbcaau = pd.read_table('C:\\\\Users\\\\chzo.REDMOND\\\\OneDrive - Microsoft\\\\CosmosData_QuerySet\\\\AnsTrig_Tr2-Feb2019_MoreLabelingData\\\\querylog_en-USGBCAAU_20k_normalQueries.txt',names=['Query','Weight'], sep='\\t')\n",
    "\n",
    "sbs_201903_desktop_imagefeature_enus = pd.read_table('C:\\\\Users\\\\chzo.REDMOND\\\\OneDrive - Microsoft\\\\CosmosData_QuerySet\\\\SBS201903Desktop_enUS\\\\SBS201903Desktop_AllImageFeatureQueries.tsv',names=['Query'], sep='\\t')\n",
    "\n",
    "sbs_201903_mobile_imagefeature_enus = pd.read_table('C:\\\\Users\\\\chzo.REDMOND\\\\OneDrive - Microsoft\\\\CosmosData_QuerySet\\\\SBS201903Mobile_enUS\\\\SBS201903_Mobile_enus_ImageFeature_QuerySet.tsv', names=['Query'])"
   ]
  },
  {
   "cell_type": "code",
   "execution_count": 68,
   "metadata": {},
   "outputs": [],
   "source": [
    "# enGB\n",
    "potassium_engb = pd.read_table('C:\\\\Users\\\\chzo.REDMOND\\\\OneDrive - Microsoft\\\\CosmosData_QuerySet\\\\AnsTrig_GenerateMeasurementSetFY18(1610-1709)_Potassium_GDI\\\\engb\\\\1_querylog_en-GB_Web_combine.txt',names=['Query','Weight'], sep='\\t')\n",
    "\n",
    "tr1_2019Feb_engb = pd.read_table('C:\\\\Users\\\\chzo.REDMOND\\\\OneDrive - Microsoft\\\\CosmosData_QuerySet\\\\AnsTrig_Tr1-Feb2019_MoreLabelingData\\\\gb\\\\querylog_en-GB_Web_normal.txt',names=['Query','Weight'], sep='\\t')\n",
    "\n",
    "sbs_201903_desktop_imagefeature_engb = pd.read_table('C:\\\\Users\\\\chzo.REDMOND\\\\OneDrive - Microsoft\\\\CosmosData_QuerySet\\\\SBS201903Desktop_enGB\\\\SBS201903_Desktop_engb_ImageFeature_QuerySet.tsv',names=['Query'])\n",
    "\n",
    "sbs_201903_mobile_imagefeature_engb = pd.read_table('C:\\\\Users\\\\chzo.REDMOND\\\\OneDrive - Microsoft\\\\CosmosData_QuerySet\\\\SBS201903Mobile_enGB\\\\SBS201903_Mobile_engb_ImageFeature_QuerySet.tsv',names=['Query'])"
   ]
  },
  {
   "cell_type": "code",
   "execution_count": 69,
   "metadata": {},
   "outputs": [],
   "source": [
    "# enCA\n",
    "potassium_enca = pd.read_table('C:\\\\Users\\\\chzo.REDMOND\\\\OneDrive - Microsoft\\\\CosmosData_QuerySet\\\\AnsTrig_GenerateMeasurementSetFY18(1610-1709)_Potassium_GDI\\\\enca\\\\1_querylog_en-CA_Web_combine.txt',names=['Query','Weight'])\n",
    "\n",
    "tr1_2019Feb_enca = pd.read_table('C:\\\\Users\\\\chzo.REDMOND\\\\OneDrive - Microsoft\\\\CosmosData_QuerySet\\\\AnsTrig_Tr1-Feb2019_MoreLabelingData\\\\ca\\\\querylog_en-CA_Web_normalqueries.tsv', names=['Query','Weight'])"
   ]
  },
  {
   "cell_type": "code",
   "execution_count": 70,
   "metadata": {},
   "outputs": [],
   "source": [
    "# enAU\n",
    "potassium_enau = pd.read_table('C:\\\\Users\\\\chzo.REDMOND\\\\OneDrive - Microsoft\\\\CosmosData_QuerySet\\\\AnsTrig_GenerateMeasurementSetFY18(1610-1709)_Potassium_GDI\\\\enau\\\\1_querylog_en-AU_Web_combine.txt', names=['Query','Weight'])\n",
    "\n",
    "tr1_2019Feb_enau = pd.read_table('C:\\\\Users\\\\chzo.REDMOND\\\\OneDrive - Microsoft\\\\CosmosData_QuerySet\\\\AnsTrig_Tr1-Feb2019_MoreLabelingData\\\\au\\\\1_NormalQuery_UHRS_task_input.tsv')\n",
    "tr1_2019Feb_enau.rename(columns={'query':'Query', 'market':'Market'}, inplace=True)"
   ]
  },
  {
   "cell_type": "code",
   "execution_count": 71,
   "metadata": {},
   "outputs": [],
   "source": [
    "setList = [ #enus\n",
    "                calcium_enus,\n",
    "                potassium_enus,\n",
    "                argon_enus,\n",
    "                tr1_2019Feb_enus,\n",
    "                tr2_2019Feb_enusgbcaau,\n",
    "                sbs_201903_desktop_imagefeature_enus,\n",
    "                sbs_201903_mobile_imagefeature_enus,\n",
    "            #engb\n",
    "                potassium_engb,\n",
    "                tr1_2019Feb_engb,\n",
    "                sbs_201903_desktop_imagefeature_engb,\n",
    "                sbs_201903_mobile_imagefeature_engb,\n",
    "            #enca\n",
    "                potassium_enca,\n",
    "                tr1_2019Feb_enca,\n",
    "            #enau\n",
    "                potassium_enau,\n",
    "                tr1_2019Feb_enau]"
   ]
  },
  {
   "cell_type": "code",
   "execution_count": 72,
   "metadata": {},
   "outputs": [
    {
     "data": {
      "text/plain": [
       "\"for x in setList:\\n    for y in setList:\\n        overlap = pd.merge(x, y, on='Query')\\n        if not (x.shape[0] == y.shape[0] & x.shape[0] == overlap.shape[0]):\\n            print(overlap.shape[0])\""
      ]
     },
     "execution_count": 72,
     "metadata": {},
     "output_type": "execute_result"
    }
   ],
   "source": [
    "'''for x in setList:\n",
    "    for y in setList:\n",
    "        overlap = pd.merge(x, y, on='Query')\n",
    "        if not (x.shape[0] == y.shape[0] & x.shape[0] == overlap.shape[0]):\n",
    "            print(overlap.shape[0])'''"
   ]
  },
  {
   "cell_type": "code",
   "execution_count": 73,
   "metadata": {},
   "outputs": [
    {
     "name": "stdout",
     "output_type": "stream",
     "text": [
      "17\n",
      "17\n",
      "8\n",
      "12\n",
      "12\n",
      "1\n",
      "3\n",
      "25\n",
      "16\n",
      "5\n",
      "1943\n",
      "19\n",
      "9\n",
      "12\n",
      "8\n"
     ]
    }
   ],
   "source": [
    "x = sbs_201903_mobile_imagefeature_engb\n",
    "for y in setList:\n",
    "        overlap = pd.merge(x, y, on='Query')\n",
    "        print(overlap.shape[0])"
   ]
  },
  {
   "cell_type": "code",
   "execution_count": null,
   "metadata": {},
   "outputs": [],
   "source": []
  }
 ],
 "metadata": {
  "kernelspec": {
   "display_name": "Python 3",
   "language": "python",
   "name": "python3"
  },
  "language_info": {
   "codemirror_mode": {
    "name": "ipython",
    "version": 3
   },
   "file_extension": ".py",
   "mimetype": "text/x-python",
   "name": "python",
   "nbconvert_exporter": "python",
   "pygments_lexer": "ipython3",
   "version": "3.6.7"
  }
 },
 "nbformat": 4,
 "nbformat_minor": 2
}
